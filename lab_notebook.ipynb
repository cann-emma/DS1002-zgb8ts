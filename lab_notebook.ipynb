{
  "cells": [
    {
      "cell_type": "markdown",
      "metadata": {
        "id": "view-in-github",
        "colab_type": "text"
      },
      "source": [
        "<a href=\"https://colab.research.google.com/github/cann-emma/DS1002-zgb8ts/blob/main/lab_notebook.ipynb\" target=\"_parent\"><img src=\"https://colab.research.google.com/assets/colab-badge.svg\" alt=\"Open In Colab\"/></a>"
      ]
    },
    {
      "cell_type": "markdown",
      "metadata": {
        "id": "IU2Oe2lgy3XV"
      },
      "source": [
        "# Web Scraping\n",
        "\n",
        "Last time, we looked at REST API's as a source of data. You can get lots of very high quality data this way.\n",
        "\n",
        "Some data is available online, but not through an API. When this is the case, some times you can simply copy and paste the data into a .csv file and go on with your life. But if there are many records to parse and combine into a dataset, that might be impossible. Can we automate the collection of data from online sources?\n",
        "\n",
        "This is called web scraping. Broadly speaking: Web scraping is legal, but what you plan to do with the results of your scraping might not be. In general, most sites do not want you to scrape them at this point, but there is not really a way to stop you if you are sufficiently motivated. Be careful to use server resources respectfully (not too many requests per unit time), think seriously about privacy concerns, and be careful who you share your work with."
      ]
    },
    {
      "cell_type": "markdown",
      "metadata": {
        "id": "ui3HNFVXy3XX"
      },
      "source": [
        "We'll be scraping data about used cars in Charlottesville from Craigslist. This will give us a chance to put those wrangling, EDA, and visualization skills to work.\n",
        "\n",
        "We'll use the `requests` package, as we did with API's, but will be getting the kinds of web pages you see everyday. Again, we'll use a header with a user-agent that masks our true identity so that we're not rejected by the server. This particular url points to the car listings for Craigslist in Charlottesville."
      ]
    },
    {
      "cell_type": "markdown",
      "metadata": {
        "id": "a8yVtKAxy3XY"
      },
      "source": [
        "## 1. Pick something else on Craigslist: Musical instruments, roommates, antiques, etc. Look at the search page and its source code. Record which fields/data you would like to gather, and what kinds of EDA you'd do with it. I look at used cars below."
      ]
    },
    {
      "cell_type": "code",
      "execution_count": 55,
      "metadata": {
        "id": "bT63yifry3XX"
      },
      "outputs": [],
      "source": [
        "import numpy as np\n",
        "import matplotlib.pyplot as plt\n",
        "import pandas as pd\n",
        "import seaborn as sns\n",
        "\n",
        "import requests # Page requests\n",
        "\n",
        "header = {'User-Agent': 'Mozilla/5.0 (Windows NT 10.0; Win64; x64; rv:124.0) Gecko/20100101 Firefox/124.0'}\n",
        "url = 'https://charlottesville.craigslist.org/search/msa#search=1~gallery~0~0'\n",
        "raw = requests.get(url,headers=header) # Get page"
      ]
    },
    {
      "cell_type": "markdown",
      "metadata": {
        "id": "GS1XkRlXy3XX"
      },
      "source": [
        "Now that we have that particular page available locally, we want to **parse** it and get results from it. To do that, we can use a package called `beautifulSoup` or `bs4`.\n",
        "\n",
        "What does `beautifulSoup` do for us? Let's go to the web page of interest. You probably see something like this:\n",
        "\n",
        "![Listings](craigslist.png \"Craigslist\")\n",
        "\n",
        "But if you \"view page source\" -- which is CTRL+U -- in Chrome, you see what the computer sees:\n",
        "\n",
        "![Listings](craigslist_source.png \"Craigslist\")\n",
        "\n",
        "Since your web browser needs lots of instructions about how to render the text, pictures, and other content on your web page, there are a lot of clues about where the data live and how to extricate them from a page. These clues are called **tags**. If you wander the source for the search page on cars, you see a particular `class = \"cl-static-search-result\"` term appear attached to each listing:\n",
        "\n",
        "![Listings](listing.png \"Craigslist\")\n",
        "\n",
        "This structure can be exploited to search the page for information. This kind of detective work -- looking at the page source, finding the interesting tages, and then searching the page with `beautifulSoup` -- is the basic job of web scraping."
      ]
    },
    {
      "cell_type": "markdown",
      "metadata": {
        "id": "NiO-E2wuy3XZ"
      },
      "source": [
        "## 2. Get your search results of interest and extract data from them, using code similar to what's below."
      ]
    },
    {
      "cell_type": "markdown",
      "metadata": {
        "id": "fEO2NpZ8y3XY"
      },
      "source": [
        "The following code chunk takes the raw content from `requests` and turns it into a beautifulSoup object, which can search the page and return results for us:"
      ]
    },
    {
      "cell_type": "code",
      "execution_count": 56,
      "metadata": {
        "id": "lllobrYIy3XY"
      },
      "outputs": [],
      "source": [
        "from bs4 import BeautifulSoup as soup # HTML parser\n",
        "bsObj = soup(raw.content,'html.parser') # Parse the html\n",
        "listings = bsObj.find_all(class_=\"cl-static-search-result\") # Find all listings"
      ]
    },
    {
      "cell_type": "code",
      "source": [
        "listings[3]"
      ],
      "metadata": {
        "colab": {
          "base_uri": "https://localhost:8080/"
        },
        "id": "PZPJw7qLWCKQ",
        "outputId": "4931eeb5-4bbf-4d77-c18d-eb06a14fbcf7"
      },
      "execution_count": 57,
      "outputs": [
        {
          "output_type": "execute_result",
          "data": {
            "text/plain": [
              "<li class=\"cl-static-search-result\" title=\"Martin D-35 (2022)\">\n",
              "<a href=\"https://charlottesville.craigslist.org/msg/d/culpeper-martin/7788281460.html\">\n",
              "<div class=\"title\">Martin D-35 (2022)</div>\n",
              "<div class=\"details\">\n",
              "<div class=\"price\">$2,500</div>\n",
              "<div class=\"location\">\n",
              "                        Culpeper\n",
              "                    </div>\n",
              "</div>\n",
              "</a>\n",
              "</li>"
            ]
          },
          "metadata": {},
          "execution_count": 57
        }
      ]
    },
    {
      "cell_type": "markdown",
      "metadata": {
        "id": "ymO8JbMmy3XY"
      },
      "source": [
        "Why is the argument `class_` and not just `class`? The word `class` is a reserved keyword for Python, and cannot be used by anyone else, similar to `True` and `False`. But since we want the `class = \"cl-static-search-result\"` terms, we need to use the `class_` argument to the `.find_all` method.\n",
        "\n",
        "The `.find_all` function dredges the entire page and finds all the instances of `class = \"cl-static-search-result\"`, resulting in a list of entries. We can then parse the entries.\n",
        "\n",
        "For each listing, we'll use the `.find` method to search within the listing record for specific information. To get the information we want, we can then use `.get_text()`.\n",
        "\n",
        "In the code below, two more things happen.\n",
        "\n",
        "First, I would like to get the brand of the car from the post title, if possible. To do this, I split the title into words using `title.split()`, and then I use a list comprehension to look over every word in the title and check whether it appears in the `brands` list.\n",
        "\n",
        "Second, I would like to get the year the car was built, so I can determine the vehicle's age. To do this, I use a thing called **regular expressions** that provides a language for expressing patterns. Do I remember how to do this off the top of my head? No, I read a few pages in a book and looked on StackOverflow for answers. Roughly, in order to express the idea \"any year starting with 20xx,\" you can write `20[0-9][0-9]`, and for \"any year starting with 19xx,\" you can write `19[0-9][0-9]`. The `[0-9]`'s act as wildcards for any digit. This allows me to use the `re` package to find any instances of year-like numbers in the title text, using `re.search(r'20[0-9][0-9]|19[0-9][0-9]', title )`.\n",
        "\n",
        "This is all nested in a for-loop over the listings, and the data is appended to a list."
      ]
    },
    {
      "cell_type": "code",
      "source": [
        "data = [] # We'll save our listings in this object\n",
        "\n",
        "items= ['violin', 'pedal', 'speaker', 'amplifier','amp','keyboard', 'banjo', 'tuba', 'case', 'electric', 'acoustic',\n",
        "       'viola', 'trombone', 'trumpet', 'piano', 'french horn', 'cymbals', 'cymbal', 'reverb', 'amps', 'ukelele', 'guitar', 'guitars',\n",
        "       'pacer', 'drum','cables', 'adapters', 'connecters']\n",
        "\n",
        "for k in range( len(listings) ):\n",
        "    title = listings[k].find('div',class_='title').get_text().lower()\n",
        "    price = listings[k].find('div',class_='price').get_text()\n",
        "    link = listings[k].find(href=True)['href']\n",
        "    words = title.split()\n",
        "    hits = [word for word in words if word in items] # Find brands in the title\n",
        "    if len(hits) == 0:\n",
        "        item = 'missing'\n",
        "    else:\n",
        "        item = hits[0]\n",
        "    data.append({'title':title,'price':price,'link':link, 'item':item })"
      ],
      "metadata": {
        "id": "v6XXwbH5eGnk"
      },
      "execution_count": 69,
      "outputs": []
    },
    {
      "cell_type": "markdown",
      "metadata": {
        "id": "v8TjNu6uy3Xa"
      },
      "source": [
        "## 3. Wrangle your data, do some EDA, and make some plots. Try to find some interesting relationships or stories to tell about your data."
      ]
    },
    {
      "cell_type": "markdown",
      "metadata": {
        "id": "Mz4zVi80y3XZ"
      },
      "source": [
        "\n",
        "With the data scraped from Craigslist, we can put it in a dataframe and wrangle it. Of course, price and year come in as text, not numbers, and need to be typecast/coerced:"
      ]
    },
    {
      "cell_type": "code",
      "source": [
        "data[0:5]"
      ],
      "metadata": {
        "colab": {
          "base_uri": "https://localhost:8080/"
        },
        "id": "uziG2Vett0F8",
        "outputId": "0f86995b-3c22-45e2-8c33-0ec93d52154b"
      },
      "execution_count": 70,
      "outputs": [
        {
          "output_type": "execute_result",
          "data": {
            "text/plain": [
              "[{'title': 'epiphone \"worn\" casino',\n",
              "  'price': '$375',\n",
              "  'link': 'https://charlottesville.craigslist.org/msg/d/staunton-epiphone-worn-casino/7782641687.html',\n",
              "  'item': 'missing'},\n",
              " {'title': '2003 schecter s-1 blackjack-usa duncans',\n",
              "  'price': '$525',\n",
              "  'link': 'https://charlottesville.craigslist.org/msg/d/charlottesville-2003-schecter-1/7789035828.html',\n",
              "  'item': 'missing'},\n",
              " {'title': 'cables, connectors, and adapters',\n",
              "  'price': '$40',\n",
              "  'link': 'https://charlottesville.craigslist.org/msg/d/charlottesville-cables-connectors-and/7788424321.html',\n",
              "  'item': 'adapters'},\n",
              " {'title': 'martin d-35 (2022)',\n",
              "  'price': '$2,500',\n",
              "  'link': 'https://charlottesville.craigslist.org/msg/d/culpeper-martin/7788281460.html',\n",
              "  'item': 'missing'},\n",
              " {'title': 'baglama saz (custom)',\n",
              "  'price': '$1,800',\n",
              "  'link': 'https://charlottesville.craigslist.org/msg/d/culpeper-baglama-saz-custom/7788299267.html',\n",
              "  'item': 'missing'}]"
            ]
          },
          "metadata": {},
          "execution_count": 70
        }
      ]
    },
    {
      "cell_type": "code",
      "execution_count": 71,
      "metadata": {
        "id": "KY1njgHcy3XZ",
        "outputId": "8ccea7b5-ea07-4dd2-b274-26abcb8b4f89",
        "colab": {
          "base_uri": "https://localhost:8080/",
          "height": 223
        }
      },
      "outputs": [
        {
          "output_type": "stream",
          "name": "stdout",
          "text": [
            "(145, 4)\n"
          ]
        },
        {
          "output_type": "execute_result",
          "data": {
            "text/plain": [
              "                                     title  price  \\\n",
              "0                   epiphone \"worn\" casino    375   \n",
              "1  2003 schecter s-1 blackjack-usa duncans    525   \n",
              "2         cables, connectors, and adapters     40   \n",
              "3                       martin d-35 (2022)   2500   \n",
              "4                     baglama saz (custom)   1800   \n",
              "\n",
              "                                                link      item  \n",
              "0  https://charlottesville.craigslist.org/msg/d/s...   missing  \n",
              "1  https://charlottesville.craigslist.org/msg/d/c...   missing  \n",
              "2  https://charlottesville.craigslist.org/msg/d/c...  adapters  \n",
              "3  https://charlottesville.craigslist.org/msg/d/c...   missing  \n",
              "4  https://charlottesville.craigslist.org/msg/d/c...   missing  "
            ],
            "text/html": [
              "\n",
              "  <div id=\"df-16855cef-49d1-4e5f-a9a0-996273be456f\" class=\"colab-df-container\">\n",
              "    <div>\n",
              "<style scoped>\n",
              "    .dataframe tbody tr th:only-of-type {\n",
              "        vertical-align: middle;\n",
              "    }\n",
              "\n",
              "    .dataframe tbody tr th {\n",
              "        vertical-align: top;\n",
              "    }\n",
              "\n",
              "    .dataframe thead th {\n",
              "        text-align: right;\n",
              "    }\n",
              "</style>\n",
              "<table border=\"1\" class=\"dataframe\">\n",
              "  <thead>\n",
              "    <tr style=\"text-align: right;\">\n",
              "      <th></th>\n",
              "      <th>title</th>\n",
              "      <th>price</th>\n",
              "      <th>link</th>\n",
              "      <th>item</th>\n",
              "    </tr>\n",
              "  </thead>\n",
              "  <tbody>\n",
              "    <tr>\n",
              "      <th>0</th>\n",
              "      <td>epiphone \"worn\" casino</td>\n",
              "      <td>375</td>\n",
              "      <td>https://charlottesville.craigslist.org/msg/d/s...</td>\n",
              "      <td>missing</td>\n",
              "    </tr>\n",
              "    <tr>\n",
              "      <th>1</th>\n",
              "      <td>2003 schecter s-1 blackjack-usa duncans</td>\n",
              "      <td>525</td>\n",
              "      <td>https://charlottesville.craigslist.org/msg/d/c...</td>\n",
              "      <td>missing</td>\n",
              "    </tr>\n",
              "    <tr>\n",
              "      <th>2</th>\n",
              "      <td>cables, connectors, and adapters</td>\n",
              "      <td>40</td>\n",
              "      <td>https://charlottesville.craigslist.org/msg/d/c...</td>\n",
              "      <td>adapters</td>\n",
              "    </tr>\n",
              "    <tr>\n",
              "      <th>3</th>\n",
              "      <td>martin d-35 (2022)</td>\n",
              "      <td>2500</td>\n",
              "      <td>https://charlottesville.craigslist.org/msg/d/c...</td>\n",
              "      <td>missing</td>\n",
              "    </tr>\n",
              "    <tr>\n",
              "      <th>4</th>\n",
              "      <td>baglama saz (custom)</td>\n",
              "      <td>1800</td>\n",
              "      <td>https://charlottesville.craigslist.org/msg/d/c...</td>\n",
              "      <td>missing</td>\n",
              "    </tr>\n",
              "  </tbody>\n",
              "</table>\n",
              "</div>\n",
              "    <div class=\"colab-df-buttons\">\n",
              "\n",
              "  <div class=\"colab-df-container\">\n",
              "    <button class=\"colab-df-convert\" onclick=\"convertToInteractive('df-16855cef-49d1-4e5f-a9a0-996273be456f')\"\n",
              "            title=\"Convert this dataframe to an interactive table.\"\n",
              "            style=\"display:none;\">\n",
              "\n",
              "  <svg xmlns=\"http://www.w3.org/2000/svg\" height=\"24px\" viewBox=\"0 -960 960 960\">\n",
              "    <path d=\"M120-120v-720h720v720H120Zm60-500h600v-160H180v160Zm220 220h160v-160H400v160Zm0 220h160v-160H400v160ZM180-400h160v-160H180v160Zm440 0h160v-160H620v160ZM180-180h160v-160H180v160Zm440 0h160v-160H620v160Z\"/>\n",
              "  </svg>\n",
              "    </button>\n",
              "\n",
              "  <style>\n",
              "    .colab-df-container {\n",
              "      display:flex;\n",
              "      gap: 12px;\n",
              "    }\n",
              "\n",
              "    .colab-df-convert {\n",
              "      background-color: #E8F0FE;\n",
              "      border: none;\n",
              "      border-radius: 50%;\n",
              "      cursor: pointer;\n",
              "      display: none;\n",
              "      fill: #1967D2;\n",
              "      height: 32px;\n",
              "      padding: 0 0 0 0;\n",
              "      width: 32px;\n",
              "    }\n",
              "\n",
              "    .colab-df-convert:hover {\n",
              "      background-color: #E2EBFA;\n",
              "      box-shadow: 0px 1px 2px rgba(60, 64, 67, 0.3), 0px 1px 3px 1px rgba(60, 64, 67, 0.15);\n",
              "      fill: #174EA6;\n",
              "    }\n",
              "\n",
              "    .colab-df-buttons div {\n",
              "      margin-bottom: 4px;\n",
              "    }\n",
              "\n",
              "    [theme=dark] .colab-df-convert {\n",
              "      background-color: #3B4455;\n",
              "      fill: #D2E3FC;\n",
              "    }\n",
              "\n",
              "    [theme=dark] .colab-df-convert:hover {\n",
              "      background-color: #434B5C;\n",
              "      box-shadow: 0px 1px 3px 1px rgba(0, 0, 0, 0.15);\n",
              "      filter: drop-shadow(0px 1px 2px rgba(0, 0, 0, 0.3));\n",
              "      fill: #FFFFFF;\n",
              "    }\n",
              "  </style>\n",
              "\n",
              "    <script>\n",
              "      const buttonEl =\n",
              "        document.querySelector('#df-16855cef-49d1-4e5f-a9a0-996273be456f button.colab-df-convert');\n",
              "      buttonEl.style.display =\n",
              "        google.colab.kernel.accessAllowed ? 'block' : 'none';\n",
              "\n",
              "      async function convertToInteractive(key) {\n",
              "        const element = document.querySelector('#df-16855cef-49d1-4e5f-a9a0-996273be456f');\n",
              "        const dataTable =\n",
              "          await google.colab.kernel.invokeFunction('convertToInteractive',\n",
              "                                                    [key], {});\n",
              "        if (!dataTable) return;\n",
              "\n",
              "        const docLinkHtml = 'Like what you see? Visit the ' +\n",
              "          '<a target=\"_blank\" href=https://colab.research.google.com/notebooks/data_table.ipynb>data table notebook</a>'\n",
              "          + ' to learn more about interactive tables.';\n",
              "        element.innerHTML = '';\n",
              "        dataTable['output_type'] = 'display_data';\n",
              "        await google.colab.output.renderOutput(dataTable, element);\n",
              "        const docLink = document.createElement('div');\n",
              "        docLink.innerHTML = docLinkHtml;\n",
              "        element.appendChild(docLink);\n",
              "      }\n",
              "    </script>\n",
              "  </div>\n",
              "\n",
              "\n",
              "<div id=\"df-3b3eb084-a27a-42b1-9423-069fb1c00976\">\n",
              "  <button class=\"colab-df-quickchart\" onclick=\"quickchart('df-3b3eb084-a27a-42b1-9423-069fb1c00976')\"\n",
              "            title=\"Suggest charts\"\n",
              "            style=\"display:none;\">\n",
              "\n",
              "<svg xmlns=\"http://www.w3.org/2000/svg\" height=\"24px\"viewBox=\"0 0 24 24\"\n",
              "     width=\"24px\">\n",
              "    <g>\n",
              "        <path d=\"M19 3H5c-1.1 0-2 .9-2 2v14c0 1.1.9 2 2 2h14c1.1 0 2-.9 2-2V5c0-1.1-.9-2-2-2zM9 17H7v-7h2v7zm4 0h-2V7h2v10zm4 0h-2v-4h2v4z\"/>\n",
              "    </g>\n",
              "</svg>\n",
              "  </button>\n",
              "\n",
              "<style>\n",
              "  .colab-df-quickchart {\n",
              "      --bg-color: #E8F0FE;\n",
              "      --fill-color: #1967D2;\n",
              "      --hover-bg-color: #E2EBFA;\n",
              "      --hover-fill-color: #174EA6;\n",
              "      --disabled-fill-color: #AAA;\n",
              "      --disabled-bg-color: #DDD;\n",
              "  }\n",
              "\n",
              "  [theme=dark] .colab-df-quickchart {\n",
              "      --bg-color: #3B4455;\n",
              "      --fill-color: #D2E3FC;\n",
              "      --hover-bg-color: #434B5C;\n",
              "      --hover-fill-color: #FFFFFF;\n",
              "      --disabled-bg-color: #3B4455;\n",
              "      --disabled-fill-color: #666;\n",
              "  }\n",
              "\n",
              "  .colab-df-quickchart {\n",
              "    background-color: var(--bg-color);\n",
              "    border: none;\n",
              "    border-radius: 50%;\n",
              "    cursor: pointer;\n",
              "    display: none;\n",
              "    fill: var(--fill-color);\n",
              "    height: 32px;\n",
              "    padding: 0;\n",
              "    width: 32px;\n",
              "  }\n",
              "\n",
              "  .colab-df-quickchart:hover {\n",
              "    background-color: var(--hover-bg-color);\n",
              "    box-shadow: 0 1px 2px rgba(60, 64, 67, 0.3), 0 1px 3px 1px rgba(60, 64, 67, 0.15);\n",
              "    fill: var(--button-hover-fill-color);\n",
              "  }\n",
              "\n",
              "  .colab-df-quickchart-complete:disabled,\n",
              "  .colab-df-quickchart-complete:disabled:hover {\n",
              "    background-color: var(--disabled-bg-color);\n",
              "    fill: var(--disabled-fill-color);\n",
              "    box-shadow: none;\n",
              "  }\n",
              "\n",
              "  .colab-df-spinner {\n",
              "    border: 2px solid var(--fill-color);\n",
              "    border-color: transparent;\n",
              "    border-bottom-color: var(--fill-color);\n",
              "    animation:\n",
              "      spin 1s steps(1) infinite;\n",
              "  }\n",
              "\n",
              "  @keyframes spin {\n",
              "    0% {\n",
              "      border-color: transparent;\n",
              "      border-bottom-color: var(--fill-color);\n",
              "      border-left-color: var(--fill-color);\n",
              "    }\n",
              "    20% {\n",
              "      border-color: transparent;\n",
              "      border-left-color: var(--fill-color);\n",
              "      border-top-color: var(--fill-color);\n",
              "    }\n",
              "    30% {\n",
              "      border-color: transparent;\n",
              "      border-left-color: var(--fill-color);\n",
              "      border-top-color: var(--fill-color);\n",
              "      border-right-color: var(--fill-color);\n",
              "    }\n",
              "    40% {\n",
              "      border-color: transparent;\n",
              "      border-right-color: var(--fill-color);\n",
              "      border-top-color: var(--fill-color);\n",
              "    }\n",
              "    60% {\n",
              "      border-color: transparent;\n",
              "      border-right-color: var(--fill-color);\n",
              "    }\n",
              "    80% {\n",
              "      border-color: transparent;\n",
              "      border-right-color: var(--fill-color);\n",
              "      border-bottom-color: var(--fill-color);\n",
              "    }\n",
              "    90% {\n",
              "      border-color: transparent;\n",
              "      border-bottom-color: var(--fill-color);\n",
              "    }\n",
              "  }\n",
              "</style>\n",
              "\n",
              "  <script>\n",
              "    async function quickchart(key) {\n",
              "      const quickchartButtonEl =\n",
              "        document.querySelector('#' + key + ' button');\n",
              "      quickchartButtonEl.disabled = true;  // To prevent multiple clicks.\n",
              "      quickchartButtonEl.classList.add('colab-df-spinner');\n",
              "      try {\n",
              "        const charts = await google.colab.kernel.invokeFunction(\n",
              "            'suggestCharts', [key], {});\n",
              "      } catch (error) {\n",
              "        console.error('Error during call to suggestCharts:', error);\n",
              "      }\n",
              "      quickchartButtonEl.classList.remove('colab-df-spinner');\n",
              "      quickchartButtonEl.classList.add('colab-df-quickchart-complete');\n",
              "    }\n",
              "    (() => {\n",
              "      let quickchartButtonEl =\n",
              "        document.querySelector('#df-3b3eb084-a27a-42b1-9423-069fb1c00976 button');\n",
              "      quickchartButtonEl.style.display =\n",
              "        google.colab.kernel.accessAllowed ? 'block' : 'none';\n",
              "    })();\n",
              "  </script>\n",
              "</div>\n",
              "\n",
              "    </div>\n",
              "  </div>\n"
            ],
            "application/vnd.google.colaboratory.intrinsic+json": {
              "type": "dataframe",
              "variable_name": "df",
              "summary": "{\n  \"name\": \"df\",\n  \"rows\": 145,\n  \"fields\": [\n    {\n      \"column\": \"title\",\n      \"properties\": {\n        \"dtype\": \"string\",\n        \"num_unique_values\": 142,\n        \"samples\": [\n          \"peavey cs 800x4 power amp\",\n          \"1980 mxr m102 dyna comp with ross mod and added 9v jack\",\n          \"cornet/trumpet: ready for band class!\"\n        ],\n        \"semantic_type\": \"\",\n        \"description\": \"\"\n      }\n    },\n    {\n      \"column\": \"price\",\n      \"properties\": {\n        \"dtype\": \"number\",\n        \"std\": 1089,\n        \"min\": 0,\n        \"max\": 6500,\n        \"num_unique_values\": 75,\n        \"samples\": [\n          1800,\n          240,\n          50\n        ],\n        \"semantic_type\": \"\",\n        \"description\": \"\"\n      }\n    },\n    {\n      \"column\": \"link\",\n      \"properties\": {\n        \"dtype\": \"string\",\n        \"num_unique_values\": 145,\n        \"samples\": [\n          \"https://charlottesville.craigslist.org/msg/d/orange-lot-of-guitars/7785585854.html\",\n          \"https://charlottesville.craigslist.org/msg/d/earlysville-fender-custom-shop-1958/7776086657.html\",\n          \"https://charlottesville.craigslist.org/msg/d/crozet-awesome-hughes-kettner-era1-250w/7788597572.html\"\n        ],\n        \"semantic_type\": \"\",\n        \"description\": \"\"\n      }\n    },\n    {\n      \"column\": \"item\",\n      \"properties\": {\n        \"dtype\": \"category\",\n        \"num_unique_values\": 23,\n        \"samples\": [\n          \"violin\",\n          \"reverb\",\n          \"missing\"\n        ],\n        \"semantic_type\": \"\",\n        \"description\": \"\"\n      }\n    }\n  ]\n}"
            }
          },
          "metadata": {},
          "execution_count": 71
        }
      ],
      "source": [
        "## Wrangle the data\n",
        "df = pd.DataFrame.from_dict(data)\n",
        "df['price'] = df['price'].str.replace('$','')\n",
        "df['price'] = df['price'].str.replace(',','')\n",
        "df['price'] = pd.to_numeric(df['price'],errors='coerce')\n",
        "print(df.shape)\n",
        "df.to_csv('instruments&accessories.csv') # Save data in case of a disaster\n",
        "df.head()"
      ]
    },
    {
      "cell_type": "markdown",
      "metadata": {
        "id": "YBcg4XUoy3XZ"
      },
      "source": [
        "With the data in and wrangled, we can now do EDA:"
      ]
    },
    {
      "cell_type": "code",
      "source": [
        "df['item'].unique()"
      ],
      "metadata": {
        "colab": {
          "base_uri": "https://localhost:8080/"
        },
        "id": "D76K8Ixmoa5Z",
        "outputId": "a6e9c1ed-c121-4e48-b160-9e9a23faedf9"
      },
      "execution_count": 72,
      "outputs": [
        {
          "output_type": "execute_result",
          "data": {
            "text/plain": [
              "array(['missing', 'adapters', 'guitar', 'drum', 'acoustic', 'speaker',\n",
              "       'electric', 'case', 'piano', 'reverb', 'amp', 'trumpet',\n",
              "       'keyboard', 'banjo', 'guitars', 'violin', 'trombone', 'cymbal',\n",
              "       'pedal', 'viola', 'tuba', 'ukelele', 'pacer'], dtype=object)"
            ]
          },
          "metadata": {},
          "execution_count": 72
        }
      ]
    },
    {
      "cell_type": "code",
      "source": [
        "df['item']= df['item'].replace(['guitar', 'guitars', 'electric', 'acoustic'], 'guitar')"
      ],
      "metadata": {
        "id": "HIbSkFxuxLDo"
      },
      "execution_count": 73,
      "outputs": []
    },
    {
      "cell_type": "code",
      "source": [
        "df['category'] = df['item']\n",
        "\n",
        "df['category'] = df['category'].replace(['guitar', 'guitars','acoustic','electric', 'banjo', 'violin', 'viola', 'ukelele'],'string')\n",
        "df['category'] = df['category'].replace(['amp', 'speaker', 'case', 'reverb', 'pacer', 'pedal', 'adapters'],'accessories')\n",
        "df['category'] = df['category'].replace(['trumpet', 'trombone', 'tuba'],'brass')\n",
        "df['category'] = df['category'].replace(['keyboard', 'piano', 'cymbal', 'cymbals', 'drum'],'percussion')"
      ],
      "metadata": {
        "id": "vMEQkilPnoJW"
      },
      "execution_count": 78,
      "outputs": []
    },
    {
      "cell_type": "code",
      "source": [
        "df['category'].unique()"
      ],
      "metadata": {
        "colab": {
          "base_uri": "https://localhost:8080/"
        },
        "id": "L_gcwTkGySX_",
        "outputId": "0ef4eb5f-7727-4c11-ab0c-911736c2c79f"
      },
      "execution_count": 79,
      "outputs": [
        {
          "output_type": "execute_result",
          "data": {
            "text/plain": [
              "array(['missing', 'accessories', 'string', 'percussion', 'brass'],\n",
              "      dtype=object)"
            ]
          },
          "metadata": {},
          "execution_count": 79
        }
      ]
    },
    {
      "cell_type": "code",
      "execution_count": 82,
      "metadata": {
        "id": "qBMwX_rFy3XZ",
        "outputId": "b7da3bc4-7e8b-4b06-c734-4448dfe8932d",
        "colab": {
          "base_uri": "https://localhost:8080/",
          "height": 1000
        }
      },
      "outputs": [
        {
          "output_type": "stream",
          "name": "stdout",
          "text": [
            "count     145.000000\n",
            "mean      640.165517\n",
            "std      1089.811802\n",
            "min         0.000000\n",
            "25%        50.000000\n",
            "50%       200.000000\n",
            "75%       700.000000\n",
            "max      6500.000000\n",
            "Name: price, dtype: float64\n"
          ]
        },
        {
          "output_type": "display_data",
          "data": {
            "text/plain": [
              "<Figure size 640x480 with 1 Axes>"
            ],
            "image/png": "[encoded data removed]"
          },
          "metadata": {}
        },
        {
          "output_type": "display_data",
          "data": {
            "text/plain": [
              "<Figure size 640x480 with 1 Axes>"
            ],
            "image/png": "[encoded data removed]"
          },
          "metadata": {}
        },
        {
          "output_type": "display_data",
          "data": {
            "text/plain": [
              "<Figure size 640x480 with 1 Axes>"
            ],
            "image/png": "[encoded data removed]"
          },
          "metadata": {}
        },
        {
          "output_type": "stream",
          "name": "stdout",
          "text": [
            "            price                                                         \\\n",
            "            count         mean          std    min    25%    50%     75%   \n",
            "category                                                                   \n",
            "accessories  25.0   234.600000   281.254481    1.0   75.0  120.0   220.0   \n",
            "brass         4.0  1187.500000  1230.430142  350.0  462.5  700.0  1425.0   \n",
            "missing      66.0   700.030303  1097.404672    1.0   42.5  212.5   880.0   \n",
            "percussion    9.0  1345.555556  2516.236580    0.0   15.0   50.0   400.0   \n",
            "string       41.0   582.853659   798.378249    0.0  125.0  250.0   700.0   \n",
            "\n",
            "                     \n",
            "                max  \n",
            "category             \n",
            "accessories   999.0  \n",
            "brass        3000.0  \n",
            "missing      5900.0  \n",
            "percussion   6500.0  \n",
            "string       3299.0  \n"
          ]
        }
      ],
      "source": [
        "# EDA for price and age:\n",
        "print(df['price'].describe())\n",
        "df['price'].hist(grid=False)\n",
        "plt.show()\n",
        "item_count= df['item'].value_counts()\n",
        "item_count.plot.bar(grid=False) ## a lot of data with missing item or uncategorized item\n",
        "plt.show()\n",
        "\n",
        "sns.kdeplot(data=df, x='price',hue='category')\n",
        "plt.show()\n",
        "\n",
        "print(df[['price', 'category']].groupby('category').describe())"
      ]
    },
    {
      "cell_type": "code",
      "execution_count": 88,
      "metadata": {
        "id": "XP4Q0dIdy3Xa",
        "outputId": "abecc8f9-47e6-46be-9f91-f57c1b0d0ddc",
        "colab": {
          "base_uri": "https://localhost:8080/"
        }
      },
      "outputs": [
        {
          "output_type": "stream",
          "name": "stdout",
          "text": [
            "         price                                                              \\\n",
            "         count         mean          std     min      25%     50%      75%   \n",
            "item                                                                         \n",
            "adapters   2.0    40.000000     0.000000    40.0    40.00    40.0    40.00   \n",
            "amp        8.0   175.125000   129.863046     1.0   102.50   155.0   240.00   \n",
            "banjo      3.0   233.333333   166.458203   125.0   137.50   150.0   287.50   \n",
            "case       6.0   172.500000   190.702648    40.0    75.00    97.5   161.25   \n",
            "cymbal     1.0    20.000000          NaN    20.0    20.00    20.0    20.00   \n",
            "drum       2.0  3450.000000  4313.351365   400.0  1925.00  3450.0  4975.00   \n",
            "guitar    33.0   630.212121   842.794747     0.0   115.00   275.0   850.00   \n",
            "keyboard   1.0    50.000000          NaN    50.0    50.00    50.0    50.00   \n",
            "missing   66.0   700.030303  1097.404672     1.0    42.50   212.5   880.00   \n",
            "pacer      1.0   999.000000          NaN   999.0   999.00   999.0   999.00   \n",
            "pedal      4.0    91.250000    36.142081    40.0    85.00   100.0   106.25   \n",
            "piano      5.0  1028.000000  2193.708618     0.0     0.00    15.0   175.00   \n",
            "reverb     2.0   575.000000   530.330086   200.0   387.50   575.0   762.50   \n",
            "speaker    2.0   417.500000   470.226009    85.0   251.25   417.5   583.75   \n",
            "trombone   1.0   350.000000          NaN   350.0   350.00   350.0   350.00   \n",
            "trumpet    2.0   700.000000   282.842712   500.0   600.00   700.0   800.00   \n",
            "tuba       1.0  3000.000000          NaN  3000.0  3000.00  3000.0  3000.00   \n",
            "ukelele    1.0   130.000000          NaN   130.0   130.00   130.0   130.00   \n",
            "viola      1.0   150.000000          NaN   150.0   150.00   150.0   150.00   \n",
            "violin     3.0   706.666667   957.148543    20.0   160.00   300.0  1050.00   \n",
            "\n",
            "                  \n",
            "             max  \n",
            "item              \n",
            "adapters    40.0  \n",
            "amp        400.0  \n",
            "banjo      425.0  \n",
            "case       550.0  \n",
            "cymbal      20.0  \n",
            "drum      6500.0  \n",
            "guitar    3299.0  \n",
            "keyboard    50.0  \n",
            "missing   5900.0  \n",
            "pacer      999.0  \n",
            "pedal      125.0  \n",
            "piano     4950.0  \n",
            "reverb     950.0  \n",
            "speaker    750.0  \n",
            "trombone   350.0  \n",
            "trumpet    900.0  \n",
            "tuba      3000.0  \n",
            "ukelele    130.0  \n",
            "viola      150.0  \n",
            "violin    1800.0  \n",
            "category  accessories  brass  missing  percussion  string\n",
            "item                                                     \n",
            "adapters            2      0        0           0       0\n",
            "amp                 8      0        0           0       0\n",
            "banjo               0      0        0           0       3\n",
            "case                6      0        0           0       0\n",
            "cymbal              0      0        0           1       0\n",
            "drum                0      0        0           2       0\n",
            "guitar              0      0        0           0      33\n",
            "keyboard            0      0        0           1       0\n",
            "missing             0      0       66           0       0\n",
            "pacer               1      0        0           0       0\n",
            "pedal               4      0        0           0       0\n",
            "piano               0      0        0           5       0\n",
            "reverb              2      0        0           0       0\n",
            "speaker             2      0        0           0       0\n",
            "trombone            0      1        0           0       0\n",
            "trumpet             0      2        0           0       0\n",
            "tuba                0      1        0           0       0\n",
            "ukelele             0      0        0           0       1\n",
            "viola               0      0        0           0       1\n",
            "violin              0      0        0           0       3\n"
          ]
        }
      ],
      "source": [
        "#\n",
        "print(df[['price','item']].groupby('item').describe())\n",
        "print(pd.crosstab(df['item'],df['category']))"
      ]
    },
    {
      "cell_type": "code",
      "execution_count": 93,
      "metadata": {
        "id": "lHypfI-py3Xa",
        "outputId": "1f580ccf-6019-4e87-8c50-53e2c93a9041",
        "colab": {
          "base_uri": "https://localhost:8080/",
          "height": 516
        }
      },
      "outputs": [
        {
          "output_type": "display_data",
          "data": {
            "text/plain": [
              "<Figure size 640x480 with 1 Axes>"
            ],
            "image/png": "[encoded data removed]"
          },
          "metadata": {}
        }
      ],
      "source": [
        "category_count= df['category'].value_counts()\n",
        "\n",
        "category_count.plot.bar(grid=False)\n",
        "plt.show()\n",
        "#ax = sns.barplot(data=category_count, x='category')\n",
        "#sns.move_legend(ax, \"upper left\", bbox_to_anchor=(1, 1))"
      ]
    },
    {
      "cell_type": "markdown",
      "metadata": {
        "id": "bvLzSN6Gy3Xb"
      },
      "source": [
        "## 4. (Optional) From your search results, crawl to the links and extract more information about every listing in your original dataframe. Wrangle and do some EDA."
      ]
    },
    {
      "cell_type": "markdown",
      "metadata": {
        "id": "dd00T888y3Xa"
      },
      "source": [
        "The final thing we want to do is go from scraping a single page to crawling around.\n",
        "\n",
        "The idea here is that every web page is connected to some other page. By extracting links as we move from page to page, we can create a web crawler that wanders around for us, gathering information of interest.\n",
        "\n",
        "In this case, we want to use the search results to then visit each individual page for each listing. Since we saved the links to the web pages in the previous scrape, we can now simply for-loop over that column in the dataframe, visiting the page listing for each of the cars in the search results:"
      ]
    },
    {
      "cell_type": "code",
      "execution_count": 95,
      "metadata": {
        "id": "gah68Z75y3Xa",
        "colab": {
          "base_uri": "https://localhost:8080/",
          "height": 211
        },
        "collapsed": true,
        "outputId": "310f2796-fe40-4280-956b-5dc3c0593c29"
      },
      "outputs": [
        {
          "output_type": "error",
          "ename": "AttributeError",
          "evalue": "'NoneType' object has no attribute 'get_text'",
          "traceback": [
            "\u001b[0;31m---------------------------------------------------------------------------\u001b[0m",
            "\u001b[0;31mAttributeError\u001b[0m                            Traceback (most recent call last)",
            "\u001b[0;32m<ipython-input-95-f8187ed00632>\u001b[0m in \u001b[0;36m<cell line: 6>\u001b[0;34m()\u001b[0m\n\u001b[1;32m     60\u001b[0m         \u001b[0mbodytype\u001b[0m \u001b[0;34m=\u001b[0m \u001b[0;34m'missing'\u001b[0m\u001b[0;34m\u001b[0m\u001b[0;34m\u001b[0m\u001b[0m\n\u001b[1;32m     61\u001b[0m     \u001b[0;31m#\u001b[0m\u001b[0;34m\u001b[0m\u001b[0;34m\u001b[0m\u001b[0m\n\u001b[0;32m---> 62\u001b[0;31m     \u001b[0mtext\u001b[0m \u001b[0;34m=\u001b[0m \u001b[0mbsObj\u001b[0m\u001b[0;34m.\u001b[0m\u001b[0mfind\u001b[0m\u001b[0;34m(\u001b[0m\u001b[0mid\u001b[0m\u001b[0;34m=\u001b[0m\u001b[0;34m'postingbody'\u001b[0m\u001b[0;34m)\u001b[0m\u001b[0;34m.\u001b[0m\u001b[0mget_text\u001b[0m\u001b[0;34m(\u001b[0m\u001b[0;34m)\u001b[0m\u001b[0;34m\u001b[0m\u001b[0;34m\u001b[0m\u001b[0m\n\u001b[0m\u001b[1;32m     63\u001b[0m     \u001b[0mtext\u001b[0m \u001b[0;34m=\u001b[0m \u001b[0mtext\u001b[0m\u001b[0;34m.\u001b[0m\u001b[0mreplace\u001b[0m\u001b[0;34m(\u001b[0m\u001b[0;34m'\\n'\u001b[0m\u001b[0;34m,\u001b[0m\u001b[0;34m''\u001b[0m\u001b[0;34m)\u001b[0m\u001b[0;34m\u001b[0m\u001b[0;34m\u001b[0m\u001b[0m\n\u001b[1;32m     64\u001b[0m     \u001b[0mtext\u001b[0m \u001b[0;34m=\u001b[0m \u001b[0mtext\u001b[0m\u001b[0;34m.\u001b[0m\u001b[0mreplace\u001b[0m\u001b[0;34m(\u001b[0m\u001b[0;34m'QR Code Link to This Post'\u001b[0m\u001b[0;34m,\u001b[0m\u001b[0;34m''\u001b[0m\u001b[0;34m)\u001b[0m\u001b[0;34m\u001b[0m\u001b[0;34m\u001b[0m\u001b[0m\n",
            "\u001b[0;31mAttributeError\u001b[0m: 'NoneType' object has no attribute 'get_text'"
          ]
        }
      ],
      "source": [
        "import time # Time delays\n",
        "import random # Random numbers\n",
        "\n",
        "links = df['link']\n",
        "data = []\n",
        "for link in links: # about 3 minutes\n",
        "    time.sleep(random.randint(1, 3)) # Random delays\n",
        "    raw = requests.get(link,headers=header) # Get page\n",
        "    bsObj = soup(raw.content,'html.parser') # Parse the html\n",
        "    #\n",
        "    try:\n",
        "        year_post = bsObj.find(class_='attr important').find(class_ = 'valu year').get_text()\n",
        "    except:\n",
        "        year_post = np.nan\n",
        "    #\n",
        "    try:\n",
        "        condition = bsObj.find(class_='attr condition').find(href=True).get_text()\n",
        "    except:\n",
        "        condition = 'missing'\n",
        "    #\n",
        "    try:\n",
        "        cylinders = bsObj.find(class_='attr auto_cylinders').find(class_ = 'valu').get_text()\n",
        "        cylinders = cylinders.replace('\\n','')\n",
        "    except:\n",
        "        cylinders = 'missing'\n",
        "    #\n",
        "    try:\n",
        "        drivetrain = bsObj.find(class_='attr auto_drivetrain').find(href=True).get_text()\n",
        "    except:\n",
        "        drivetrain = 'missing'\n",
        "    #\n",
        "    try:\n",
        "        fuel = bsObj.find(class_='attr auto_fuel_type').find(href = True).get_text()\n",
        "    except:\n",
        "        fuel = 'missing'\n",
        "    #\n",
        "    try:\n",
        "        miles = bsObj.find(class_='attr auto_miles').find(class_ = 'valu').get_text()\n",
        "    except:\n",
        "        miles = np.nan\n",
        "    #\n",
        "    try:\n",
        "        color = bsObj.find(class_='attr auto_paint').find(href=True).get_text()\n",
        "    except:\n",
        "        color='missing'\n",
        "    #\n",
        "    try:\n",
        "        title = bsObj.find(class_='attr auto_title_status').find(href=True).get_text()\n",
        "    except:\n",
        "        title='missing'\n",
        "    #\n",
        "    try:\n",
        "        transmission = bsObj.find(class_='attr auto_transmission').find(href=True).get_text()\n",
        "    except:\n",
        "        transmission = 'missing'\n",
        "    #\n",
        "    try:\n",
        "        bodytype = bsObj.find(class_='attr auto_bodytype').find(href=True).get_text()\n",
        "    except:\n",
        "        bodytype = 'missing'\n",
        "    #\n",
        "    text = bsObj.find(id='postingbody').get_text()\n",
        "    text = text.replace('\\n','')\n",
        "    text = text.replace('QR Code Link to This Post','')\n",
        "    record = {'title':title,\n",
        "              'year_post':year_post,\n",
        "              'condition':condition,\n",
        "              'cylinders':cylinders,\n",
        "              'drivetrain':drivetrain,\n",
        "              'fuel':fuel,\n",
        "              'miles':miles,\n",
        "              'color':color,\n",
        "              'title':'title',\n",
        "              'transmission':transmission,\n",
        "              'bodytype':bodytype,\n",
        "              'text':text,}\n",
        "    data.append(record)"
      ]
    },
    {
      "cell_type": "markdown",
      "metadata": {
        "id": "ro7H8V54y3Xb"
      },
      "source": [
        "What are the new features here?\n",
        "\n",
        "First, we don't want to overwhelm the servers, so we put a small delay between each request of a listing, `time.sleep(random.randint(1, 3))`. This waits a random amount of time between 1 and 3 seconds to avoid overwhelming their server.\n",
        "\n",
        "Second, we use the try/except block. This is a useful control structure in general, but especially for web scraping. Python tries the statements under `try:`, and if it fails, executes the steps under `except:`. This can happen, in this case, with missing data, which crashes the crawler. Instead, we put our missing codes into our dataframe right away.\n",
        "\n",
        "Third, we used `.find().find().get_text()` to find the data we're looking for. In general, the structure of mark-up langauges like HTML and XML makes it possible to \"drill down\" into their entries and extract the information of interest. This exploitation of mark-up languages could be the subject of a whole course on procuring data from the web."
      ]
    },
    {
      "cell_type": "markdown",
      "metadata": {
        "id": "UrI6hrL6y3Xb"
      },
      "source": [
        "With the data scraped, we can make a new dataframe, combine it with the old one using `pd.concat`, and do some wrangling to clean the data up:"
      ]
    },
    {
      "cell_type": "code",
      "execution_count": null,
      "metadata": {
        "id": "SDM-sfRay3Xb"
      },
      "outputs": [],
      "source": [
        "new_df = pd.DataFrame.from_dict(data)\n",
        "new_df.head()\n",
        "\n",
        "df = pd.concat([df,new_df],axis=1) # combine data frames\n",
        "df.head()\n",
        "\n",
        "df['miles'] = df['miles'].str.replace(',','')\n",
        "df['miles'] = pd.to_numeric(df['miles'],errors='coerce')\n",
        "\n",
        "df['year_post'] = df['year_post'].str.replace(',','')\n",
        "df['year_post'] = pd.to_numeric(df['year_post'],errors='coerce')\n",
        "df.to_csv('craiglist_cville_cars_long.csv')"
      ]
    }
  ],
  "metadata": {
    "kernelspec": {
      "display_name": "Python 3",
      "language": "python",
      "name": "python3"
    },
    "language_info": {
      "codemirror_mode": {
        "name": "ipython",
        "version": 3
      },
      "file_extension": ".py",
      "mimetype": "text/x-python",
      "name": "python",
      "nbconvert_exporter": "python",
      "pygments_lexer": "ipython3",
      "version": "3.10.12"
    },
    "colab": {
      "provenance": [],
      "include_colab_link": true
    }
  },
  "nbformat": 4,
  "nbformat_minor": 0
}