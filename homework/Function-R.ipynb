{
  "nbformat": 4,
  "nbformat_minor": 0,
  "metadata": {
    "colab": {
      "provenance": [],
      "include_colab_link": true
    },
    "kernelspec": {
      "name": "ir",
      "display_name": "R"
    },
    "language_info": {
      "name": "R"
    }
  },
  "cells": [
    {
      "cell_type": "markdown",
      "metadata": {
        "id": "view-in-github",
        "colab_type": "text"
      },
      "source": [
        "<a href=\"https://colab.research.google.com/github/cann-emma/DS1002-zgb8ts/blob/main/homework/Function-R.ipynb\" target=\"_parent\"><img src=\"https://colab.research.google.com/assets/colab-badge.svg\" alt=\"Open In Colab\"/></a>"
      ]
    },
    {
      "cell_type": "markdown",
      "source": [
        "# Homework - Week 15\n",
        "\n",
        "Complete the following blocks as specified in the directions. Run each cell to return the desired output. Save your notebook back to your GitHub repository and submit the GitHub URL to your notebook for review."
      ],
      "metadata": {
        "id": "sZruw3XQogej"
      }
    },
    {
      "cell_type": "markdown",
      "source": [
        "## 1. Create Functions (4 pts)\n",
        "\n",
        "Create two functions in the cells below, according to the prompts given."
      ],
      "metadata": {
        "id": "lkaofBQypx1X"
      }
    },
    {
      "cell_type": "code",
      "source": [
        "# create a function in R that:\n",
        "#   1. takes a single integer as an input parameter\n",
        "#   2. determines whether the integer is even or odd\n",
        "#   3. returns a character statement \"The integer <x> is even\" or \"The integer <x> is odd\" (replace <x> with the actual input provided)\n",
        "#\n",
        "# then execute the function twice using two different input values, displaying even and odd results.\n",
        "my_func<- function(x){if (x%%2==0) {return(paste('The integer', print(x), 'is even'))} else{return(paste('The integer',  x , 'is odd'))}}\n",
        "my_func(4)\n",
        "my_func(3)"
      ],
      "metadata": {
        "id": "1fjq5bkEp6Zv",
        "outputId": "05d90d52-f9c5-49cf-b7d3-d95852d4bbb3",
        "colab": {
          "base_uri": "https://localhost:8080/",
          "height": 69
        }
      },
      "execution_count": null,
      "outputs": [
        {
          "output_type": "stream",
          "name": "stdout",
          "text": [
            "[1] 4\n"
          ]
        },
        {
          "output_type": "display_data",
          "data": {
            "text/html": [
              "'The integer 4 is even'"
            ],
            "text/markdown": "'The integer 4 is even'",
            "text/latex": "'The integer 4 is even'",
            "text/plain": [
              "[1] \"The integer 4 is even\""
            ]
          },
          "metadata": {}
        },
        {
          "output_type": "display_data",
          "data": {
            "text/html": [
              "'The integer 3 is odd'"
            ],
            "text/markdown": "'The integer 3 is odd'",
            "text/latex": "'The integer 3 is odd'",
            "text/plain": [
              "[1] \"The integer 3 is odd\""
            ]
          },
          "metadata": {}
        }
      ]
    },
    {
      "cell_type": "code",
      "source": [
        "# create a function in R that:\n",
        "#   1. takes 4 integer input parameters\n",
        "#   2. returns the mean value of the inputs\n",
        "#   3. has default values for the 4 input parameters, in case they are not provided when the function is called.\n",
        "#\n",
        "# then execute the function twice: once where you provide the input values, and once where you do not.\n",
        "four_mean<- function(a= 0,b= 0,c= 0,d= 0) {mean_four= (a+b+c+d)/4\n",
        "mean_four}\n",
        "four_mean(1,2,3,4)\n",
        "four_mean()"
      ],
      "metadata": {
        "id": "f3IFD-T6p6Rd",
        "outputId": "578bdf2c-2a93-4438-b704-e5b51d2a7174",
        "colab": {
          "base_uri": "https://localhost:8080/",
          "height": 52
        }
      },
      "execution_count": null,
      "outputs": [
        {
          "output_type": "display_data",
          "data": {
            "text/html": [
              "2.5"
            ],
            "text/markdown": "2.5",
            "text/latex": "2.5",
            "text/plain": [
              "[1] 2.5"
            ]
          },
          "metadata": {}
        },
        {
          "output_type": "display_data",
          "data": {
            "text/html": [
              "0"
            ],
            "text/markdown": "0",
            "text/latex": "0",
            "text/plain": [
              "[1] 0"
            ]
          },
          "metadata": {}
        }
      ]
    },
    {
      "cell_type": "markdown",
      "source": [
        "## 2. Plot Data (4 pts)"
      ],
      "metadata": {
        "id": "F6Rx0GIGrpOB"
      }
    },
    {
      "cell_type": "markdown",
      "source": [
        "In the cell below, write the code required to plot from the `msleep` sample data set.\n",
        "\n",
        "1. Display only animals with body weights of 30 or greater.\n",
        "2. Group the animals by `order`.\n",
        "3. Display the mean `sleep_total` for each group in a bar plot."
      ],
      "metadata": {
        "id": "IDLyOjOJsFCX"
      }
    },
    {
      "cell_type": "code",
      "source": [
        "install.packages('gapminder')\n",
        "library(gapminder)\n",
        "install.packages('RColorBrewer')\n",
        "library(RColorBrewer)\n",
        "library(dplyr)\n",
        "library(ggplot2)\n",
        "# used RStudio to obtain dataset since data() was not working\n",
        "msleep<- read.csv('msleep.csv')"
      ],
      "metadata": {
        "id": "Y_B_Gho65Mf4",
        "outputId": "448731c6-0553-4ffe-a777-cdaaee9ebba7",
        "colab": {
          "base_uri": "https://localhost:8080/"
        }
      },
      "execution_count": null,
      "outputs": [
        {
          "output_type": "stream",
          "name": "stderr",
          "text": [
            "Installing package into ‘/usr/local/lib/R/site-library’\n",
            "(as ‘lib’ is unspecified)\n",
            "\n",
            "Installing package into ‘/usr/local/lib/R/site-library’\n",
            "(as ‘lib’ is unspecified)\n",
            "\n"
          ]
        }
      ]
    },
    {
      "cell_type": "code",
      "source": [
        "# Filtering Dataset and Plotting\n",
        "msleep_plot<- msleep%>%filter(bodywt>= 30)%>%group_by(order)\n",
        "ggplot(msleep_plot, aes(x= order, y= mean(msleep_plot$sleep_total), fill= order))+geom_bar(stat= 'identity')+ scale_fill_brewer(palette = 'Spectral')+ ylab('Mean Sleep Total(hrs)')"
      ],
      "metadata": {
        "id": "0D5Ia-BPsoPZ",
        "outputId": "7476b34f-99f1-49bf-918b-75930db11659",
        "colab": {
          "base_uri": "https://localhost:8080/",
          "height": 437
        }
      },
      "execution_count": null,
      "outputs": [
        {
          "output_type": "display_data",
          "data": {
            "text/plain": [
              "plot without title"
            ],
            "image/png": "[encoded data removed]"
          },
          "metadata": {
            "image/png": {
              "width": 420,
              "height": 420
            }
          }
        }
      ]
    },
    {
      "cell_type": "code",
      "source": [
        "# Comparing the original dataset to the filtered dataset for plotting\n",
        "str(msleep)\n",
        "str(msleep_plot)"
      ],
      "metadata": {
        "id": "dEWkMNcKAzVz",
        "outputId": "03bf1301-fbbf-4324-e586-9728c49aa17d",
        "colab": {
          "base_uri": "https://localhost:8080/"
        }
      },
      "execution_count": null,
      "outputs": [
        {
          "output_type": "stream",
          "name": "stdout",
          "text": [
            "'data.frame':\t83 obs. of  12 variables:\n",
            " $ X           : int  1 2 3 4 5 6 7 8 9 10 ...\n",
            " $ name        : chr  \"Cheetah\" \"Owl monkey\" \"Mountain beaver\" \"Greater short-tailed shrew\" ...\n",
            " $ genus       : chr  \"Acinonyx\" \"Aotus\" \"Aplodontia\" \"Blarina\" ...\n",
            " $ vore        : chr  \"carni\" \"omni\" \"herbi\" \"omni\" ...\n",
            " $ order       : chr  \"Carnivora\" \"Primates\" \"Rodentia\" \"Soricomorpha\" ...\n",
            " $ conservation: chr  \"lc\" NA \"nt\" \"lc\" ...\n",
            " $ sleep_total : num  12.1 17 14.4 14.9 4 14.4 8.7 7 10.1 3 ...\n",
            " $ sleep_rem   : num  NA 1.8 2.4 2.3 0.7 2.2 1.4 NA 2.9 NA ...\n",
            " $ sleep_cycle : num  NA NA NA 0.133 0.667 ...\n",
            " $ awake       : num  11.9 7 9.6 9.1 20 9.6 15.3 17 13.9 21 ...\n",
            " $ brainwt     : num  NA 0.0155 NA 0.00029 0.423 NA NA NA 0.07 0.0982 ...\n",
            " $ bodywt      : num  50 0.48 1.35 0.019 600 ...\n",
            "gropd_df [22 × 12] (S3: grouped_df/tbl_df/tbl/data.frame)\n",
            " $ X           : int [1:22] 1 5 11 21 23 24 30 31 32 34 ...\n",
            " $ name        : chr [1:22] \"Cheetah\" \"Cow\" \"Goat\" \"Asian elephant\" ...\n",
            " $ genus       : chr [1:22] \"Acinonyx\" \"Bos\" \"Capri\" \"Elephas\" ...\n",
            " $ vore        : chr [1:22] \"carni\" \"herbi\" \"herbi\" \"herbi\" ...\n",
            " $ order       : chr [1:22] \"Carnivora\" \"Artiodactyla\" \"Artiodactyla\" \"Proboscidea\" ...\n",
            " $ conservation: chr [1:22] \"lc\" \"domesticated\" \"lc\" \"en\" ...\n",
            " $ sleep_total : num [1:22] 12.1 4 5.3 3.9 2.9 3.1 1.9 2.7 6.2 8 ...\n",
            " $ sleep_rem   : num [1:22] NA 0.7 0.6 NA 0.6 0.4 0.4 0.1 1.5 1.9 ...\n",
            " $ sleep_cycle : num [1:22] NA 0.667 NA NA 1 ...\n",
            " $ awake       : num [1:22] 11.9 20 18.7 20.1 21.1 ...\n",
            " $ brainwt     : num [1:22] NA 0.423 0.115 4.603 0.655 ...\n",
            " $ bodywt      : num [1:22] 50 600 33.5 2547 521 ...\n",
            " - attr(*, \"groups\")= tibble [7 × 2] (S3: tbl_df/tbl/data.frame)\n",
            "  ..$ order: chr [1:7] \"Artiodactyla\" \"Carnivora\" \"Cetacea\" \"Cingulata\" ...\n",
            "  ..$ .rows: list<int> [1:7] \n",
            "  .. ..$ : int [1:5] 2 3 7 12 20\n",
            "  .. ..$ : int [1:6] 1 9 14 15 16 17\n",
            "  .. ..$ : int [1:3] 8 18 22\n",
            "  .. ..$ : int 19\n",
            "  .. ..$ : int [1:3] 5 6 21\n",
            "  .. ..$ : int [1:2] 10 13\n",
            "  .. ..$ : int [1:2] 4 11\n",
            "  .. ..@ ptype: int(0) \n",
            "  ..- attr(*, \".drop\")= logi TRUE\n"
          ]
        }
      ]
    },
    {
      "cell_type": "markdown",
      "source": [
        "## 3. Clean and Analyze Data Using R (4 pts)\n",
        "\n",
        "In the cells below use R to perform the following data cleaning steps on this file:\n",
        "https://raw.githubusercontent.com/nmagee/ds1002/main/data/social-media-users.csv\n",
        "\n",
        "1. Remove any duplicate rows.\n",
        "2. Remove any records where `last_login` or `birthdate` are empty.\n",
        "3. Display only the records with the 10 highest `follower` counts.\n",
        "4. Determine counts of users when grouped by continent."
      ],
      "metadata": {
        "id": "-2ZaFcCCv3o8"
      }
    },
    {
      "cell_type": "code",
      "source": [
        "# Remove any duplicate rows.\n",
        "socials<- read.csv('https://raw.githubusercontent.com/nmagee/ds1002/main/data/social-media-users.csv')\n",
        "socials2<- socials[!duplicated(socials),]"
      ],
      "metadata": {
        "id": "V4nBsdVsyauQ"
      },
      "execution_count": null,
      "outputs": []
    },
    {
      "cell_type": "code",
      "source": [
        "# Remove any records where last_login or birthdate are empty.\n",
        "socials2[socials2== \"\"]<- NA\n",
        "socials2[socials2== \"\"]<- NA\n",
        "socials3<- socials2[complete.cases(socials2$birthdate), ]\n",
        "socials4<- socials3[complete.cases(socials3$last_login), ]"
      ],
      "metadata": {
        "id": "F7X7YXeqxSVh"
      },
      "execution_count": null,
      "outputs": []
    },
    {
      "cell_type": "code",
      "source": [
        "# Display only the records with the 10 highest follower counts\n",
        "followers_dat<- socials4%>%arrange(desc(followers))\n",
        "head(followers_dat, 10)"
      ],
      "metadata": {
        "id": "LwXD1sNulIT3",
        "outputId": "ceaf1806-ef42-4862-c2e6-20bc3b4e6823",
        "colab": {
          "base_uri": "https://localhost:8080/",
          "height": 411
        }
      },
      "execution_count": null,
      "outputs": [
        {
          "output_type": "display_data",
          "data": {
            "text/html": [
              "<table class=\"dataframe\">\n",
              "<caption>A data.frame: 10 × 8</caption>\n",
              "<thead>\n",
              "\t<tr><th></th><th scope=col>username</th><th scope=col>full_name</th><th scope=col>birthdate</th><th scope=col>email</th><th scope=col>continent</th><th scope=col>followers</th><th scope=col>last_login</th><th scope=col>interests</th></tr>\n",
              "\t<tr><th></th><th scope=col>&lt;chr&gt;</th><th scope=col>&lt;chr&gt;</th><th scope=col>&lt;chr&gt;</th><th scope=col>&lt;chr&gt;</th><th scope=col>&lt;chr&gt;</th><th scope=col>&lt;int&gt;</th><th scope=col>&lt;chr&gt;</th><th scope=col>&lt;chr&gt;</th></tr>\n",
              "</thead>\n",
              "<tbody>\n",
              "\t<tr><th scope=row>1</th><td>lleckeyb6    </td><td>Lynne Leckey        </td><td>4/19/1998 </td><td>lleckeyb6@tripadvisor.com</td><td>SA</td><td>99977</td><td>3/14/2021 </td><td>sports</td></tr>\n",
              "\t<tr><th scope=row>2</th><td>spharoaha2   </td><td>Staci Pharoah       </td><td>9/2/1985  </td><td>spharoaha2@sfgate.com    </td><td>NA</td><td>99905</td><td>10/26/2023</td><td>sports</td></tr>\n",
              "\t<tr><th scope=row>3</th><td>cduftondy    </td><td>Celisse Dufton      </td><td>8/24/1995 </td><td>cduftondy@ox.ac.uk       </td><td>OC</td><td>99707</td><td>9/26/2021 </td><td>sports</td></tr>\n",
              "\t<tr><th scope=row>4</th><td>dbartalin77  </td><td>Desiree Bartalin    </td><td>8/23/1993 </td><td>dbartalin77@usda.gov     </td><td>AF</td><td>99618</td><td>5/30/2022 </td><td>music </td></tr>\n",
              "\t<tr><th scope=row>5</th><td>grivardmp    </td><td>Gwen Rivard         </td><td>9/12/1982 </td><td>grivardmp@google.com.hk  </td><td>OC</td><td>99526</td><td>4/4/2020  </td><td>music </td></tr>\n",
              "\t<tr><th scope=row>6</th><td>mraggitt9g   </td><td>Morgan Raggitt      </td><td>11/16/1992</td><td>mraggitt9g@home.pl       </td><td>NA</td><td>99508</td><td>11/12/2021</td><td>music </td></tr>\n",
              "\t<tr><th scope=row>7</th><td>wbenese7     </td><td>Wain Benes          </td><td>3/9/1998  </td><td>wbenese7@ebay.com        </td><td>NA</td><td>99400</td><td>10/1/2021 </td><td>travel</td></tr>\n",
              "\t<tr><th scope=row>8</th><td>kmorriceht   </td><td>Kitti Morrice       </td><td>6/3/1995  </td><td>kmorriceht@privacy.gov.au</td><td>SA</td><td>98936</td><td>3/24/2021 </td><td>sports</td></tr>\n",
              "\t<tr><th scope=row>9</th><td>smacdonnell7o</td><td>Shoshanna MacDonnell</td><td>9/12/2002 </td><td>smacdonnell7o@toplist.cz </td><td>AS</td><td>98760</td><td>7/20/2021 </td><td>music </td></tr>\n",
              "\t<tr><th scope=row>10</th><td>dcossum34    </td><td>Dwain Cossum        </td><td>9/9/1990  </td><td>dcossum34@dagondesign.com</td><td>NA</td><td>98743</td><td>6/7/2021  </td><td>sports</td></tr>\n",
              "</tbody>\n",
              "</table>\n"
            ],
            "text/markdown": "\nA data.frame: 10 × 8\n\n| <!--/--> | username &lt;chr&gt; | full_name &lt;chr&gt; | birthdate &lt;chr&gt; | email &lt;chr&gt; | continent &lt;chr&gt; | followers &lt;int&gt; | last_login &lt;chr&gt; | interests &lt;chr&gt; |\n|---|---|---|---|---|---|---|---|---|\n| 1 | lleckeyb6     | Lynne Leckey         | 4/19/1998  | lleckeyb6@tripadvisor.com | SA | 99977 | 3/14/2021  | sports |\n| 2 | spharoaha2    | Staci Pharoah        | 9/2/1985   | spharoaha2@sfgate.com     | NA | 99905 | 10/26/2023 | sports |\n| 3 | cduftondy     | Celisse Dufton       | 8/24/1995  | cduftondy@ox.ac.uk        | OC | 99707 | 9/26/2021  | sports |\n| 4 | dbartalin77   | Desiree Bartalin     | 8/23/1993  | dbartalin77@usda.gov      | AF | 99618 | 5/30/2022  | music  |\n| 5 | grivardmp     | Gwen Rivard          | 9/12/1982  | grivardmp@google.com.hk   | OC | 99526 | 4/4/2020   | music  |\n| 6 | mraggitt9g    | Morgan Raggitt       | 11/16/1992 | mraggitt9g@home.pl        | NA | 99508 | 11/12/2021 | music  |\n| 7 | wbenese7      | Wain Benes           | 3/9/1998   | wbenese7@ebay.com         | NA | 99400 | 10/1/2021  | travel |\n| 8 | kmorriceht    | Kitti Morrice        | 6/3/1995   | kmorriceht@privacy.gov.au | SA | 98936 | 3/24/2021  | sports |\n| 9 | smacdonnell7o | Shoshanna MacDonnell | 9/12/2002  | smacdonnell7o@toplist.cz  | AS | 98760 | 7/20/2021  | music  |\n| 10 | dcossum34     | Dwain Cossum         | 9/9/1990   | dcossum34@dagondesign.com | NA | 98743 | 6/7/2021   | sports |\n\n",
            "text/latex": "A data.frame: 10 × 8\n\\begin{tabular}{r|llllllll}\n  & username & full\\_name & birthdate & email & continent & followers & last\\_login & interests\\\\\n  & <chr> & <chr> & <chr> & <chr> & <chr> & <int> & <chr> & <chr>\\\\\n\\hline\n\t1 & lleckeyb6     & Lynne Leckey         & 4/19/1998  & lleckeyb6@tripadvisor.com & SA & 99977 & 3/14/2021  & sports\\\\\n\t2 & spharoaha2    & Staci Pharoah        & 9/2/1985   & spharoaha2@sfgate.com     & NA & 99905 & 10/26/2023 & sports\\\\\n\t3 & cduftondy     & Celisse Dufton       & 8/24/1995  & cduftondy@ox.ac.uk        & OC & 99707 & 9/26/2021  & sports\\\\\n\t4 & dbartalin77   & Desiree Bartalin     & 8/23/1993  & dbartalin77@usda.gov      & AF & 99618 & 5/30/2022  & music \\\\\n\t5 & grivardmp     & Gwen Rivard          & 9/12/1982  & grivardmp@google.com.hk   & OC & 99526 & 4/4/2020   & music \\\\\n\t6 & mraggitt9g    & Morgan Raggitt       & 11/16/1992 & mraggitt9g@home.pl        & NA & 99508 & 11/12/2021 & music \\\\\n\t7 & wbenese7      & Wain Benes           & 3/9/1998   & wbenese7@ebay.com         & NA & 99400 & 10/1/2021  & travel\\\\\n\t8 & kmorriceht    & Kitti Morrice        & 6/3/1995   & kmorriceht@privacy.gov.au & SA & 98936 & 3/24/2021  & sports\\\\\n\t9 & smacdonnell7o & Shoshanna MacDonnell & 9/12/2002  & smacdonnell7o@toplist.cz  & AS & 98760 & 7/20/2021  & music \\\\\n\t10 & dcossum34     & Dwain Cossum         & 9/9/1990   & dcossum34@dagondesign.com & NA & 98743 & 6/7/2021   & sports\\\\\n\\end{tabular}\n",
            "text/plain": [
              "   username      full_name            birthdate  email                    \n",
              "1  lleckeyb6     Lynne Leckey         4/19/1998  lleckeyb6@tripadvisor.com\n",
              "2  spharoaha2    Staci Pharoah        9/2/1985   spharoaha2@sfgate.com    \n",
              "3  cduftondy     Celisse Dufton       8/24/1995  cduftondy@ox.ac.uk       \n",
              "4  dbartalin77   Desiree Bartalin     8/23/1993  dbartalin77@usda.gov     \n",
              "5  grivardmp     Gwen Rivard          9/12/1982  grivardmp@google.com.hk  \n",
              "6  mraggitt9g    Morgan Raggitt       11/16/1992 mraggitt9g@home.pl       \n",
              "7  wbenese7      Wain Benes           3/9/1998   wbenese7@ebay.com        \n",
              "8  kmorriceht    Kitti Morrice        6/3/1995   kmorriceht@privacy.gov.au\n",
              "9  smacdonnell7o Shoshanna MacDonnell 9/12/2002  smacdonnell7o@toplist.cz \n",
              "10 dcossum34     Dwain Cossum         9/9/1990   dcossum34@dagondesign.com\n",
              "   continent followers last_login interests\n",
              "1  SA        99977     3/14/2021  sports   \n",
              "2  NA        99905     10/26/2023 sports   \n",
              "3  OC        99707     9/26/2021  sports   \n",
              "4  AF        99618     5/30/2022  music    \n",
              "5  OC        99526     4/4/2020   music    \n",
              "6  NA        99508     11/12/2021 music    \n",
              "7  NA        99400     10/1/2021  travel   \n",
              "8  SA        98936     3/24/2021  sports   \n",
              "9  AS        98760     7/20/2021  music    \n",
              "10 NA        98743     6/7/2021   sports   "
            ]
          },
          "metadata": {}
        }
      ]
    },
    {
      "cell_type": "code",
      "source": [
        "# Determine counts of users when grouped by continent.\n",
        "socials4%>%group_by(continent)%>%count()"
      ],
      "metadata": {
        "id": "7qa100btlI4Z",
        "outputId": "8ebbc633-5d1f-4513-b433-06f92be54716",
        "colab": {
          "base_uri": "https://localhost:8080/",
          "height": 286
        }
      },
      "execution_count": null,
      "outputs": [
        {
          "output_type": "display_data",
          "data": {
            "text/html": [
              "<table class=\"dataframe\">\n",
              "<caption>A grouped_df: 6 × 2</caption>\n",
              "<thead>\n",
              "\t<tr><th scope=col>continent</th><th scope=col>n</th></tr>\n",
              "\t<tr><th scope=col>&lt;chr&gt;</th><th scope=col>&lt;int&gt;</th></tr>\n",
              "</thead>\n",
              "<tbody>\n",
              "\t<tr><td>AF</td><td> 70</td></tr>\n",
              "\t<tr><td>AS</td><td>111</td></tr>\n",
              "\t<tr><td>EU</td><td> 77</td></tr>\n",
              "\t<tr><td>OC</td><td> 95</td></tr>\n",
              "\t<tr><td>SA</td><td> 69</td></tr>\n",
              "\t<tr><td>NA</td><td>228</td></tr>\n",
              "</tbody>\n",
              "</table>\n"
            ],
            "text/markdown": "\nA grouped_df: 6 × 2\n\n| continent &lt;chr&gt; | n &lt;int&gt; |\n|---|---|\n| AF |  70 |\n| AS | 111 |\n| EU |  77 |\n| OC |  95 |\n| SA |  69 |\n| NA | 228 |\n\n",
            "text/latex": "A grouped\\_df: 6 × 2\n\\begin{tabular}{ll}\n continent & n\\\\\n <chr> & <int>\\\\\n\\hline\n\t AF &  70\\\\\n\t AS & 111\\\\\n\t EU &  77\\\\\n\t OC &  95\\\\\n\t SA &  69\\\\\n\t NA & 228\\\\\n\\end{tabular}\n",
            "text/plain": [
              "  continent n  \n",
              "1 AF         70\n",
              "2 AS        111\n",
              "3 EU         77\n",
              "4 OC         95\n",
              "5 SA         69\n",
              "6 NA        228"
            ]
          },
          "metadata": {}
        }
      ]
    }
  ]
}